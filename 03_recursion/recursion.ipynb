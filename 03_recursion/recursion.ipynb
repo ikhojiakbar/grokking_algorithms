{
 "cells": [
  {
   "cell_type": "markdown",
   "id": "a24e9b12",
   "metadata": {},
   "source": [
    "# while"
   ]
  },
  {
   "cell_type": "code",
   "execution_count": 1,
   "id": "07d9463f",
   "metadata": {},
   "outputs": [],
   "source": [
    "def look_for_key(main_box):\n",
    "    pile = main_box.make_a_pile_to_look_through()\n",
    "    \n",
    "    while pile is not empty:\n",
    "        box = pile.grab_a_box()\n",
    "        \n",
    "        for item in box:\n",
    "            if item.is_a_box():\n",
    "                pile.append(item)\n",
    "            elif item.is_a_key():\n",
    "                print('Found the key')"
   ]
  },
  {
   "cell_type": "markdown",
   "id": "75f02049",
   "metadata": {},
   "source": [
    "# recursion"
   ]
  },
  {
   "cell_type": "code",
   "execution_count": 2,
   "id": "7446c6cb",
   "metadata": {},
   "outputs": [],
   "source": [
    "def look_for_key(box):\n",
    "    for item in box:\n",
    "        if item.is_a_box():\n",
    "            look_for_key(item)\n",
    "        elif item.is_a_key():\n",
    "            print('Found the key')"
   ]
  },
  {
   "cell_type": "markdown",
   "id": "ba027ccb",
   "metadata": {},
   "source": [
    "# base case"
   ]
  },
  {
   "cell_type": "code",
   "execution_count": 3,
   "id": "c777ae3a",
   "metadata": {},
   "outputs": [
    {
     "name": "stdout",
     "output_type": "stream",
     "text": [
      "5\n",
      "4\n",
      "3\n",
      "2\n",
      "1\n",
      "0\n",
      "None\n"
     ]
    }
   ],
   "source": [
    "def countdown(i):\n",
    "    print(i)\n",
    "    if i <= 0:\n",
    "        return\n",
    "    else:\n",
    "        countdown(i-1)\n",
    "        \n",
    "print(countdown(5))"
   ]
  },
  {
   "cell_type": "markdown",
   "id": "fc276e0c",
   "metadata": {},
   "source": [
    "# factorial"
   ]
  },
  {
   "cell_type": "code",
   "execution_count": 4,
   "id": "d49ac037",
   "metadata": {},
   "outputs": [
    {
     "name": "stdout",
     "output_type": "stream",
     "text": [
      "120\n"
     ]
    }
   ],
   "source": [
    "def factorial(x):\n",
    "    if x == 1:\n",
    "        return 1\n",
    "    else:\n",
    "        return x * factorial(x-1)\n",
    "    \n",
    "print(factorial(5))"
   ]
  }
 ],
 "metadata": {
  "kernelspec": {
   "display_name": "Python 3",
   "language": "python",
   "name": "python3"
  },
  "language_info": {
   "codemirror_mode": {
    "name": "ipython",
    "version": 3
   },
   "file_extension": ".py",
   "mimetype": "text/x-python",
   "name": "python",
   "nbconvert_exporter": "python",
   "pygments_lexer": "ipython3",
   "version": "3.8.8"
  }
 },
 "nbformat": 4,
 "nbformat_minor": 5
}
