{
 "cells": [
  {
   "cell_type": "markdown",
   "id": "05a731c3",
   "metadata": {},
   "source": [
    "# Sorting from smallest to largest"
   ]
  },
  {
   "cell_type": "code",
   "execution_count": 1,
   "id": "508b2da6",
   "metadata": {},
   "outputs": [],
   "source": [
    "def find_smallest(array):\n",
    "    smallest = array[0]\n",
    "    smallest_index = 0\n",
    "    \n",
    "    for i in range(1, len(array)):\n",
    "        if array[i] < smallest:\n",
    "            smallest = array[i]\n",
    "            smallest_index = i\n",
    "            \n",
    "    return smallest_index"
   ]
  },
  {
   "cell_type": "code",
   "execution_count": 2,
   "id": "d1b929cd",
   "metadata": {},
   "outputs": [],
   "source": [
    "def selection_sort(array):\n",
    "    new_array = []\n",
    "    \n",
    "    for i in range(len(array)):\n",
    "        smallest = find_smallest(array)\n",
    "        new_array.append(array.pop(smallest))\n",
    "        \n",
    "    return new_array"
   ]
  },
  {
   "cell_type": "code",
   "execution_count": 3,
   "id": "9d87aa58",
   "metadata": {},
   "outputs": [
    {
     "name": "stdout",
     "output_type": "stream",
     "text": [
      "[2, 3, 5, 6, 10]\n"
     ]
    }
   ],
   "source": [
    "print(selection_sort([5, 3, 2, 6, 10]))"
   ]
  }
 ],
 "metadata": {
  "kernelspec": {
   "display_name": "Python 3",
   "language": "python",
   "name": "python3"
  },
  "language_info": {
   "codemirror_mode": {
    "name": "ipython",
    "version": 3
   },
   "file_extension": ".py",
   "mimetype": "text/x-python",
   "name": "python",
   "nbconvert_exporter": "python",
   "pygments_lexer": "ipython3",
   "version": "3.8.8"
  }
 },
 "nbformat": 4,
 "nbformat_minor": 5
}
