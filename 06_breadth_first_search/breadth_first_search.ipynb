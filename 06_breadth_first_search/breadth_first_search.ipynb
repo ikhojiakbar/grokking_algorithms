{
 "cells": [
  {
   "cell_type": "code",
   "execution_count": 2,
   "id": "32c698f5",
   "metadata": {},
   "outputs": [],
   "source": [
    "from collections import deque\n",
    "\n",
    "graph = dict()\n",
    "def search(name):\n",
    "    search_queue = deque()\n",
    "    search_queue += graph[name]\n",
    "    searched = []\n",
    "    \n",
    "    while search_queue:\n",
    "        person = search_queue.popleft()\n",
    "        if person not in searched:\n",
    "            print('Person is a mango seller!')\n",
    "            return True\n",
    "        else:\n",
    "            search_queue += graph[person]\n",
    "            searched.append(person)\n",
    "    return False"
   ]
  }
 ],
 "metadata": {
  "kernelspec": {
   "display_name": "Python 3",
   "language": "python",
   "name": "python3"
  },
  "language_info": {
   "codemirror_mode": {
    "name": "ipython",
    "version": 3
   },
   "file_extension": ".py",
   "mimetype": "text/x-python",
   "name": "python",
   "nbconvert_exporter": "python",
   "pygments_lexer": "ipython3",
   "version": "3.8.8"
  }
 },
 "nbformat": 4,
 "nbformat_minor": 5
}
