{
 "cells": [
  {
   "cell_type": "code",
   "execution_count": 5,
   "id": "d01a4b0c",
   "metadata": {},
   "outputs": [],
   "source": [
    "states_needed = set(['mt', 'wa', 'or', 'id', 'nv', 'ut', 'ca', 'az'])\n",
    "\n",
    "stations = {}\n",
    "stations['kone'] = set(['id', 'nv', 'ut'])\n",
    "stations['ktwo'] = set(['wa', 'id', 'mt'])\n",
    "stations['kthree'] = set(['or', 'nv', 'ca'])\n",
    "stations['kfour'] = set(['nv', 'ut'])\n",
    "stations['kfive'] = set(['ca', 'az'])\n",
    "\n",
    "final_stations = set()"
   ]
  },
  {
   "cell_type": "code",
   "execution_count": null,
   "id": "b514b97a",
   "metadata": {
    "scrolled": true
   },
   "outputs": [],
   "source": [
    "while states_needed:\n",
    "    best_station = None\n",
    "    states_covered = set()\n",
    "    \n",
    "    for station, states_for_station in stations.items():\n",
    "        covered = states_needed & states_for_station\n",
    "        \n",
    "        if len(covered) > len(states_covered):\n",
    "            best_station = station\n",
    "            states_covered = covered\n",
    "            \n",
    "states_needed -= states_covered\n",
    "final_stations.add(best_station)\n",
    "\n",
    "print(final_stations)"
   ]
  }
 ],
 "metadata": {
  "kernelspec": {
   "display_name": "Python 3",
   "language": "python",
   "name": "python3"
  },
  "language_info": {
   "codemirror_mode": {
    "name": "ipython",
    "version": 3
   },
   "file_extension": ".py",
   "mimetype": "text/x-python",
   "name": "python",
   "nbconvert_exporter": "python",
   "pygments_lexer": "ipython3",
   "version": "3.8.8"
  }
 },
 "nbformat": 4,
 "nbformat_minor": 5
}
