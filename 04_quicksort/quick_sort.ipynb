{
 "cells": [
  {
   "cell_type": "code",
   "execution_count": 1,
   "id": "b7e82c72",
   "metadata": {},
   "outputs": [
    {
     "name": "stdout",
     "output_type": "stream",
     "text": [
      "10\n"
     ]
    }
   ],
   "source": [
    "def total(array):\n",
    "    summary = 0\n",
    "    for i in array:\n",
    "        summary += i\n",
    "    return summary\n",
    "\n",
    "print(total([1, 2, 3, 4]))"
   ]
  },
  {
   "cell_type": "code",
   "execution_count": 2,
   "id": "c70d773f",
   "metadata": {},
   "outputs": [],
   "source": [
    "def quick_sort(array):\n",
    "    if len(array) < 2:\n",
    "        return array    #base case\n",
    "    else:\n",
    "        pivot = array[0]  #recursive case\n",
    "        less = [i for i in array[1:] if i <= pivot]  #sub-array of elements lesser than pivot\n",
    "        great = [i for i in array[1:] if i > pivot] #sub-array of elements greater than pivot\n",
    "        return quick_sort(less) + [pivot] + quick_sort(great)"
   ]
  },
  {
   "cell_type": "code",
   "execution_count": 3,
   "id": "62cbf4ef",
   "metadata": {
    "scrolled": true
   },
   "outputs": [
    {
     "name": "stdout",
     "output_type": "stream",
     "text": [
      "[2, 4, 5, 10]\n"
     ]
    }
   ],
   "source": [
    "print(quick_sort([10, 5, 2, 4]))"
   ]
  }
 ],
 "metadata": {
  "kernelspec": {
   "display_name": "Python 3",
   "language": "python",
   "name": "python3"
  },
  "language_info": {
   "codemirror_mode": {
    "name": "ipython",
    "version": 3
   },
   "file_extension": ".py",
   "mimetype": "text/x-python",
   "name": "python",
   "nbconvert_exporter": "python",
   "pygments_lexer": "ipython3",
   "version": "3.8.8"
  }
 },
 "nbformat": 4,
 "nbformat_minor": 5
}
