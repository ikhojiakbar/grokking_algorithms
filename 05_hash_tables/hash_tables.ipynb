{
 "cells": [
  {
   "cell_type": "code",
   "execution_count": 1,
   "id": "a56e1026",
   "metadata": {},
   "outputs": [
    {
     "name": "stdout",
     "output_type": "stream",
     "text": [
      "{'apple': 0.67, 'milk': 1.49, 'avocado': 1.49}\n"
     ]
    }
   ],
   "source": [
    "book = dict()\n",
    "\n",
    "book['apple'] = 0.67\n",
    "book['milk'] = 1.49\n",
    "book['avocado'] = 1.49\n",
    "\n",
    "print(book)"
   ]
  },
  {
   "cell_type": "code",
   "execution_count": 2,
   "id": "2193c4dd",
   "metadata": {},
   "outputs": [
    {
     "name": "stdout",
     "output_type": "stream",
     "text": [
      "1.49\n"
     ]
    }
   ],
   "source": [
    "print(book['avocado'])"
   ]
  },
  {
   "cell_type": "markdown",
   "id": "e95657ef",
   "metadata": {},
   "source": [
    "# phone book"
   ]
  },
  {
   "cell_type": "code",
   "execution_count": 3,
   "id": "04615c57",
   "metadata": {},
   "outputs": [
    {
     "data": {
      "text/plain": [
       "936667876"
      ]
     },
     "execution_count": 3,
     "metadata": {},
     "output_type": "execute_result"
    }
   ],
   "source": [
    "phone_book = dict()\n",
    "\n",
    "phone_book['asror'] = 936667876\n",
    "phone_book['akbar'] = 936082107\n",
    "\n",
    "phone_book['asror']"
   ]
  },
  {
   "cell_type": "markdown",
   "id": "8093c4e8",
   "metadata": {},
   "source": [
    "# voting"
   ]
  },
  {
   "cell_type": "code",
   "execution_count": 4,
   "id": "af678a91",
   "metadata": {},
   "outputs": [],
   "source": [
    "voted = dict()\n",
    "\n",
    "def check_voter(name):\n",
    "    if voted.get(name):   #get() returns value if 'tom' is in hash table, otherwise None\n",
    "        print('Kick them out!')\n",
    "    else:\n",
    "        voted[name] = True\n",
    "        print('Let them vote')"
   ]
  },
  {
   "cell_type": "code",
   "execution_count": 5,
   "id": "22176c61",
   "metadata": {},
   "outputs": [
    {
     "name": "stdout",
     "output_type": "stream",
     "text": [
      "Let them vote\n",
      "Let them vote\n",
      "Kick them out!\n"
     ]
    }
   ],
   "source": [
    "check_voter('tom')\n",
    "check_voter('mike')\n",
    "check_voter('mike')"
   ]
  }
 ],
 "metadata": {
  "kernelspec": {
   "display_name": "Python 3",
   "language": "python",
   "name": "python3"
  },
  "language_info": {
   "codemirror_mode": {
    "name": "ipython",
    "version": 3
   },
   "file_extension": ".py",
   "mimetype": "text/x-python",
   "name": "python",
   "nbconvert_exporter": "python",
   "pygments_lexer": "ipython3",
   "version": "3.8.8"
  }
 },
 "nbformat": 4,
 "nbformat_minor": 5
}
