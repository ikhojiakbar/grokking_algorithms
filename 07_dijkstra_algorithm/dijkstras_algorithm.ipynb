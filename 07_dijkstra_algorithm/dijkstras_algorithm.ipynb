{
 "cells": [
  {
   "cell_type": "code",
   "execution_count": 1,
   "id": "1ef63229",
   "metadata": {},
   "outputs": [],
   "source": [
    "graph = dict()\n",
    "graph['start'] = dict()\n",
    "\n",
    "graph['start']['a'] = 6\n",
    "graph['start']['b'] = 2"
   ]
  },
  {
   "cell_type": "code",
   "execution_count": 2,
   "id": "37ddd56b",
   "metadata": {},
   "outputs": [
    {
     "data": {
      "text/plain": [
       "dict_keys(['a', 'b'])"
      ]
     },
     "execution_count": 2,
     "metadata": {},
     "output_type": "execute_result"
    }
   ],
   "source": [
    "#getting the node neighbours\n",
    "graph['start'].keys()"
   ]
  },
  {
   "cell_type": "code",
   "execution_count": 3,
   "id": "baae4f6d",
   "metadata": {},
   "outputs": [
    {
     "name": "stdout",
     "output_type": "stream",
     "text": [
      "6\n",
      "2\n"
     ]
    }
   ],
   "source": [
    "#getting edge weights\n",
    "print(graph['start']['a'])\n",
    "print(graph['start']['b'])"
   ]
  },
  {
   "cell_type": "code",
   "execution_count": 4,
   "id": "469804e2",
   "metadata": {},
   "outputs": [],
   "source": [
    "graph['a'] = dict()\n",
    "graph['a']['finish'] = 1\n",
    "\n",
    "graph['b'] = dict()\n",
    "graph['b']['a'] = 3\n",
    "graph['b']['finish'] = 5"
   ]
  },
  {
   "cell_type": "code",
   "execution_count": 5,
   "id": "8419a32b",
   "metadata": {},
   "outputs": [],
   "source": [
    "graph['finish'] = dict()"
   ]
  },
  {
   "cell_type": "markdown",
   "id": "f91bd1a8",
   "metadata": {},
   "source": [
    "# Costs table"
   ]
  },
  {
   "cell_type": "code",
   "execution_count": 6,
   "id": "66aa33d7",
   "metadata": {},
   "outputs": [],
   "source": [
    "infinity = float('inf')\n",
    "costs = dict()\n",
    "costs['a'] = 6\n",
    "costs['b'] = 2\n",
    "costs['finish'] = infinity"
   ]
  },
  {
   "cell_type": "markdown",
   "id": "6c26bcc3",
   "metadata": {},
   "source": [
    "# Parents table"
   ]
  },
  {
   "cell_type": "code",
   "execution_count": 7,
   "id": "10a9c490",
   "metadata": {},
   "outputs": [],
   "source": [
    "parents = dict()\n",
    "parents['a'] = 'start'\n",
    "parents['b'] = 'start'\n",
    "parents['finish'] = None"
   ]
  },
  {
   "cell_type": "code",
   "execution_count": 8,
   "id": "3def332c",
   "metadata": {},
   "outputs": [],
   "source": [
    "processed = []"
   ]
  }
 ],
 "metadata": {
  "kernelspec": {
   "display_name": "Python 3",
   "language": "python",
   "name": "python3"
  },
  "language_info": {
   "codemirror_mode": {
    "name": "ipython",
    "version": 3
   },
   "file_extension": ".py",
   "mimetype": "text/x-python",
   "name": "python",
   "nbconvert_exporter": "python",
   "pygments_lexer": "ipython3",
   "version": "3.8.8"
  }
 },
 "nbformat": 4,
 "nbformat_minor": 5
}
