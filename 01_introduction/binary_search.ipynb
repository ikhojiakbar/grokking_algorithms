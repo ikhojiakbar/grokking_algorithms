{
 "cells": [
  {
   "cell_type": "code",
   "execution_count": 1,
   "id": "5c194331",
   "metadata": {},
   "outputs": [
    {
     "name": "stdout",
     "output_type": "stream",
     "text": [
      "4\n"
     ]
    }
   ],
   "source": [
    "def binary_search(sequence, item):\n",
    "    low = 0\n",
    "    high = len(sequence) - 1\n",
    "    \n",
    "    while low <= high:\n",
    "        mid = (low + high) // 2\n",
    "        guess = sequence[mid]\n",
    "        \n",
    "        if guess == item:\n",
    "            return mid\n",
    "        elif guess < item:\n",
    "            low = mid + 1\n",
    "        else:\n",
    "            high = mid - 1\n",
    "    return None\n",
    "\n",
    "\n",
    "\n",
    "my_sequence = [1, 3, 5, 7, 9]\n",
    "print(binary_search(my_sequence, 9))\n",
    "\n",
    "#index position is outputted"
   ]
  },
  {
   "cell_type": "code",
   "execution_count": 2,
   "id": "df790291",
   "metadata": {},
   "outputs": [
    {
     "name": "stdout",
     "output_type": "stream",
     "text": [
      "Please think of a number between 1 and 1000\n",
      "Press ENTER to start\n",
      "Guessing in the range of 1 and 1000\n",
      "My guess is 500. Should I guess higher or lower. Enter h or l, or c if my guess were correct: l\n",
      "Guessing in the range of 1 and 499\n",
      "My guess is 250. Should I guess higher or lower. Enter h or l, or c if my guess were correct: h\n",
      "Guessing in the range of 251 and 499\n",
      "My guess is 375. Should I guess higher or lower. Enter h or l, or c if my guess were correct: l\n",
      "Guessing in the range of 251 and 374\n",
      "My guess is 312. Should I guess higher or lower. Enter h or l, or c if my guess were correct: h\n",
      "Guessing in the range of 313 and 374\n",
      "My guess is 343. Should I guess higher or lower. Enter h or l, or c if my guess were correct: h\n",
      "Guessing in the range of 344 and 374\n",
      "My guess is 359. Should I guess higher or lower. Enter h or l, or c if my guess were correct: l\n",
      "Guessing in the range of 344 and 358\n",
      "My guess is 351. Should I guess higher or lower. Enter h or l, or c if my guess were correct: h\n",
      "Guessing in the range of 352 and 358\n",
      "My guess is 355. Should I guess higher or lower. Enter h or l, or c if my guess were correct: c\n",
      "I got it in 8 guesses\n"
     ]
    }
   ],
   "source": [
    "low = 1\n",
    "high = 1000\n",
    "\n",
    "print('Please think of a number between {} and {}'.format(low, high))\n",
    "input('Press ENTER to start')\n",
    "\n",
    "guesses = 1\n",
    "while True:\n",
    "    print('Guessing in the range of {} and {}'.format(low, high))\n",
    "    guess = low + (high - low) // 2\n",
    "    high_low = input('My guess is {}. Should I guess higher or lower. Enter h or l, or c if my guess were correct: '\n",
    "                     .format(guess)).casefold()\n",
    "    \n",
    "    if high_low == 'h':\n",
    "        low = guess + 1\n",
    "    elif high_low == 'l':\n",
    "        high = guess - 1\n",
    "    elif high_low == 'c':\n",
    "        print('I got it in {} guesses'.format(guesses))\n",
    "        break\n",
    "    else:\n",
    "        print('Please enter \"h\", \"l\", or \"c\"')\n",
    "        \n",
    "    guesses += 1"
   ]
  }
 ],
 "metadata": {
  "kernelspec": {
   "display_name": "Python 3",
   "language": "python",
   "name": "python3"
  },
  "language_info": {
   "codemirror_mode": {
    "name": "ipython",
    "version": 3
   },
   "file_extension": ".py",
   "mimetype": "text/x-python",
   "name": "python",
   "nbconvert_exporter": "python",
   "pygments_lexer": "ipython3",
   "version": "3.8.8"
  }
 },
 "nbformat": 4,
 "nbformat_minor": 5
}
